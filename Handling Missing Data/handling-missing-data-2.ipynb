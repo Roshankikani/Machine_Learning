{
 "cells": [
  {
   "cell_type": "code",
   "execution_count": 1,
   "id": "2ea9b63b",
   "metadata": {},
   "outputs": [],
   "source": [
    "# Goal is that ki age and fare in missing value ne fill karvani che .\n",
    "# numerical imputation\n",
    "\n",
    "import numpy as np\n",
    "import pandas as pd\n",
    "import matplotlib.pyplot as plt"
   ]
  },
  {
   "cell_type": "code",
   "execution_count": 2,
   "id": "b840bc27",
   "metadata": {},
   "outputs": [],
   "source": [
    "from sklearn.model_selection import train_test_split\n",
    "from sklearn.impute import SimpleImputer\n",
    "from sklearn.compose import ColumnTransformer"
   ]
  },
  {
   "cell_type": "code",
   "execution_count": 3,
   "id": "9eeaff82",
   "metadata": {},
   "outputs": [],
   "source": [
    "df = pd.read_csv(\"titanic_toy\")"
   ]
  },
  {
   "cell_type": "code",
   "execution_count": 27,
   "id": "02f20142",
   "metadata": {},
   "outputs": [
    {
     "data": {
      "text/plain": [
       "(891, 4)"
      ]
     },
     "execution_count": 27,
     "metadata": {},
     "output_type": "execute_result"
    }
   ],
   "source": [
    "df.shape"
   ]
  },
  {
   "cell_type": "code",
   "execution_count": 4,
   "id": "7253ac68",
   "metadata": {},
   "outputs": [],
   "source": [
    "df.drop(\"Unnamed: 0\",axis=1,inplace=True)"
   ]
  },
  {
   "cell_type": "code",
   "execution_count": 5,
   "id": "02c8d694",
   "metadata": {},
   "outputs": [
    {
     "data": {
      "text/html": [
       "<div>\n",
       "<style scoped>\n",
       "    .dataframe tbody tr th:only-of-type {\n",
       "        vertical-align: middle;\n",
       "    }\n",
       "\n",
       "    .dataframe tbody tr th {\n",
       "        vertical-align: top;\n",
       "    }\n",
       "\n",
       "    .dataframe thead th {\n",
       "        text-align: right;\n",
       "    }\n",
       "</style>\n",
       "<table border=\"1\" class=\"dataframe\">\n",
       "  <thead>\n",
       "    <tr style=\"text-align: right;\">\n",
       "      <th></th>\n",
       "      <th>Age</th>\n",
       "      <th>Fare</th>\n",
       "      <th>Family</th>\n",
       "      <th>Survived</th>\n",
       "    </tr>\n",
       "  </thead>\n",
       "  <tbody>\n",
       "    <tr>\n",
       "      <th>724</th>\n",
       "      <td>27.0</td>\n",
       "      <td>53.1000</td>\n",
       "      <td>1</td>\n",
       "      <td>1</td>\n",
       "    </tr>\n",
       "    <tr>\n",
       "      <th>88</th>\n",
       "      <td>23.0</td>\n",
       "      <td>263.0000</td>\n",
       "      <td>5</td>\n",
       "      <td>1</td>\n",
       "    </tr>\n",
       "    <tr>\n",
       "      <th>250</th>\n",
       "      <td>NaN</td>\n",
       "      <td>7.2500</td>\n",
       "      <td>0</td>\n",
       "      <td>0</td>\n",
       "    </tr>\n",
       "    <tr>\n",
       "      <th>380</th>\n",
       "      <td>42.0</td>\n",
       "      <td>227.5250</td>\n",
       "      <td>0</td>\n",
       "      <td>1</td>\n",
       "    </tr>\n",
       "    <tr>\n",
       "      <th>370</th>\n",
       "      <td>25.0</td>\n",
       "      <td>55.4417</td>\n",
       "      <td>1</td>\n",
       "      <td>1</td>\n",
       "    </tr>\n",
       "  </tbody>\n",
       "</table>\n",
       "</div>"
      ],
      "text/plain": [
       "      Age      Fare  Family  Survived\n",
       "724  27.0   53.1000       1         1\n",
       "88   23.0  263.0000       5         1\n",
       "250   NaN    7.2500       0         0\n",
       "380  42.0  227.5250       0         1\n",
       "370  25.0   55.4417       1         1"
      ]
     },
     "execution_count": 5,
     "metadata": {},
     "output_type": "execute_result"
    }
   ],
   "source": [
    "df.sample(5)"
   ]
  },
  {
   "cell_type": "code",
   "execution_count": 6,
   "id": "c3850f4e",
   "metadata": {},
   "outputs": [
    {
     "data": {
      "text/plain": [
       "Age         19.865320\n",
       "Fare         5.050505\n",
       "Family       0.000000\n",
       "Survived     0.000000\n",
       "dtype: float64"
      ]
     },
     "execution_count": 6,
     "metadata": {},
     "output_type": "execute_result"
    }
   ],
   "source": [
    "df.isnull().mean()*100"
   ]
  },
  {
   "cell_type": "code",
   "execution_count": 7,
   "id": "73cc542a",
   "metadata": {},
   "outputs": [],
   "source": [
    "x = df.drop(['Survived'],axis=1)\n",
    "y = df['Survived']"
   ]
  },
  {
   "cell_type": "code",
   "execution_count": 8,
   "id": "c9c1b042",
   "metadata": {},
   "outputs": [],
   "source": [
    "x_train , x_test , y_train , y_test  = train_test_split(x,y,test_size=0.2,random_state=42)"
   ]
  },
  {
   "cell_type": "code",
   "execution_count": 9,
   "id": "091c1d6a",
   "metadata": {},
   "outputs": [
    {
     "data": {
      "text/plain": [
       "((712, 3), (179, 3), (712,), (179,))"
      ]
     },
     "execution_count": 9,
     "metadata": {},
     "output_type": "execute_result"
    }
   ],
   "source": [
    "x_train.shape , x_test.shape , y_train.shape , y_test.shape"
   ]
  },
  {
   "cell_type": "code",
   "execution_count": 10,
   "id": "0c941177",
   "metadata": {},
   "outputs": [
    {
     "data": {
      "text/plain": [
       "Age       19.662921\n",
       "Fare       5.056180\n",
       "Family     0.000000\n",
       "dtype: float64"
      ]
     },
     "execution_count": 10,
     "metadata": {},
     "output_type": "execute_result"
    }
   ],
   "source": [
    "x_train.isnull().mean()*100"
   ]
  },
  {
   "cell_type": "code",
   "execution_count": 11,
   "id": "c02398d2",
   "metadata": {},
   "outputs": [],
   "source": [
    "mean_age = x_train['Age'].mean()\n",
    "median_age = x_train['Age'].mean()\n",
    "\n",
    "mean_Fare = x_train['Fare'].mean()\n",
    "median_Fare = x_train['Fare'].mean()"
   ]
  },
  {
   "cell_type": "code",
   "execution_count": 12,
   "id": "73c27f73",
   "metadata": {},
   "outputs": [
    {
     "name": "stdout",
     "output_type": "stream",
     "text": [
      "29.498846153846156\n",
      "29.498846153846156\n",
      "32.51778772189349\n",
      "32.51778772189349\n"
     ]
    },
    {
     "data": {
      "text/plain": [
       "(None, None, None, None)"
      ]
     },
     "execution_count": 12,
     "metadata": {},
     "output_type": "execute_result"
    }
   ],
   "source": [
    "print(mean_age) , print(median_age) , print(mean_Fare) , print(median_Fare)"
   ]
  },
  {
   "cell_type": "code",
   "execution_count": 13,
   "id": "4c3e91bc",
   "metadata": {},
   "outputs": [],
   "source": [
    "x_train['age_mean'] = x_train['Age'].fillna(mean_age)\n",
    "x_train['age_median'] = x_train['Age'].fillna(median_age)\n",
    "\n",
    "x_train['fare_mean'] = x_train['Fare'].fillna(mean_Fare)\n",
    "x_train['fare_median'] = x_train['Fare'].fillna(median_Fare)"
   ]
  },
  {
   "cell_type": "code",
   "execution_count": 14,
   "id": "bf9e63ab",
   "metadata": {},
   "outputs": [
    {
     "data": {
      "text/html": [
       "<div>\n",
       "<style scoped>\n",
       "    .dataframe tbody tr th:only-of-type {\n",
       "        vertical-align: middle;\n",
       "    }\n",
       "\n",
       "    .dataframe tbody tr th {\n",
       "        vertical-align: top;\n",
       "    }\n",
       "\n",
       "    .dataframe thead th {\n",
       "        text-align: right;\n",
       "    }\n",
       "</style>\n",
       "<table border=\"1\" class=\"dataframe\">\n",
       "  <thead>\n",
       "    <tr style=\"text-align: right;\">\n",
       "      <th></th>\n",
       "      <th>Age</th>\n",
       "      <th>Fare</th>\n",
       "      <th>Family</th>\n",
       "      <th>age_mean</th>\n",
       "      <th>age_median</th>\n",
       "      <th>fare_mean</th>\n",
       "      <th>fare_median</th>\n",
       "    </tr>\n",
       "  </thead>\n",
       "  <tbody>\n",
       "    <tr>\n",
       "      <th>676</th>\n",
       "      <td>24.5</td>\n",
       "      <td>8.0500</td>\n",
       "      <td>0</td>\n",
       "      <td>24.500000</td>\n",
       "      <td>24.500000</td>\n",
       "      <td>8.0500</td>\n",
       "      <td>8.0500</td>\n",
       "    </tr>\n",
       "    <tr>\n",
       "      <th>335</th>\n",
       "      <td>NaN</td>\n",
       "      <td>7.8958</td>\n",
       "      <td>0</td>\n",
       "      <td>29.498846</td>\n",
       "      <td>29.498846</td>\n",
       "      <td>7.8958</td>\n",
       "      <td>7.8958</td>\n",
       "    </tr>\n",
       "    <tr>\n",
       "      <th>108</th>\n",
       "      <td>38.0</td>\n",
       "      <td>7.8958</td>\n",
       "      <td>0</td>\n",
       "      <td>38.000000</td>\n",
       "      <td>38.000000</td>\n",
       "      <td>7.8958</td>\n",
       "      <td>7.8958</td>\n",
       "    </tr>\n",
       "    <tr>\n",
       "      <th>371</th>\n",
       "      <td>18.0</td>\n",
       "      <td>6.4958</td>\n",
       "      <td>1</td>\n",
       "      <td>18.000000</td>\n",
       "      <td>18.000000</td>\n",
       "      <td>6.4958</td>\n",
       "      <td>6.4958</td>\n",
       "    </tr>\n",
       "    <tr>\n",
       "      <th>864</th>\n",
       "      <td>24.0</td>\n",
       "      <td>13.0000</td>\n",
       "      <td>0</td>\n",
       "      <td>24.000000</td>\n",
       "      <td>24.000000</td>\n",
       "      <td>13.0000</td>\n",
       "      <td>13.0000</td>\n",
       "    </tr>\n",
       "  </tbody>\n",
       "</table>\n",
       "</div>"
      ],
      "text/plain": [
       "      Age     Fare  Family   age_mean  age_median  fare_mean  fare_median\n",
       "676  24.5   8.0500       0  24.500000   24.500000     8.0500       8.0500\n",
       "335   NaN   7.8958       0  29.498846   29.498846     7.8958       7.8958\n",
       "108  38.0   7.8958       0  38.000000   38.000000     7.8958       7.8958\n",
       "371  18.0   6.4958       1  18.000000   18.000000     6.4958       6.4958\n",
       "864  24.0  13.0000       0  24.000000   24.000000    13.0000      13.0000"
      ]
     },
     "execution_count": 14,
     "metadata": {},
     "output_type": "execute_result"
    }
   ],
   "source": [
    "x_train.sample(5)"
   ]
  },
  {
   "cell_type": "code",
   "execution_count": 15,
   "id": "6eda0f36",
   "metadata": {},
   "outputs": [
    {
     "name": "stdout",
     "output_type": "stream",
     "text": [
      "original age variable variance: 210.2517072477435\n",
      "Age Variance after median imputation 168.85193366872227\n",
      "Age variance agter mean imputation 168.85193366872227\n"
     ]
    }
   ],
   "source": [
    "print(\"original age variable variance:\", x_train['Age'].var())\n",
    "print(\"Age Variance after median imputation\",x_train['age_median'].var())\n",
    "print(\"Age variance agter mean imputation\",x_train['age_mean'].var())"
   ]
  },
  {
   "cell_type": "code",
   "execution_count": 16,
   "id": "cfec03f9",
   "metadata": {},
   "outputs": [
    {
     "name": "stdout",
     "output_type": "stream",
     "text": [
      "original fare variable variance: 2761.0314349486343\n",
      "fare variance after median imputatuion 2621.232374951235\n",
      "fare variance after mean imputatuion 2621.232374951235\n"
     ]
    }
   ],
   "source": [
    "print(\"original fare variable variance:\",x_train['Fare'].var())\n",
    "print(\"fare variance after median imputatuion\",x_train['fare_median'].var())\n",
    "print(\"fare variance after mean imputatuion\",x_train['fare_mean'].var())"
   ]
  },
  {
   "cell_type": "code",
   "execution_count": 17,
   "id": "6fd75f0d",
   "metadata": {},
   "outputs": [
    {
     "data": {
      "text/plain": [
       "<matplotlib.legend.Legend at 0x1e3743454b0>"
      ]
     },
     "execution_count": 17,
     "metadata": {},
     "output_type": "execute_result"
    },
    {
     "data": {
      "image/png": "[encoded data removed]",
      "text/plain": [
       "<Figure size 432x288 with 1 Axes>"
      ]
     },
     "metadata": {
      "needs_background": "light"
     },
     "output_type": "display_data"
    }
   ],
   "source": [
    "fig = plt.figure()\n",
    "ax = fig.add_subplot(111)\n",
    "\n",
    "#original variable distribution \n",
    "x_train['Age'].plot(kind='kde',ax=ax)\n",
    "\n",
    "#variable imputed with the median.\n",
    "x_train['age_median'].plot(kind='kde',ax=ax,color='red')\n",
    "\n",
    "#variable imputed with mean.\n",
    "x_train['age_mean'].plot(kind='kde',ax=ax,color='green')\n",
    "\n",
    "#legends\n",
    "lines,labels = ax.get_legend_handles_labels()\n",
    "ax.legend(lines,labels,loc='best')"
   ]
  },
  {
   "cell_type": "code",
   "execution_count": 18,
   "id": "a6f12b91",
   "metadata": {
    "scrolled": true
   },
   "outputs": [
    {
     "data": {
      "text/plain": [
       "<matplotlib.legend.Legend at 0x1e3784f1930>"
      ]
     },
     "execution_count": 18,
     "metadata": {},
     "output_type": "execute_result"
    },
    {
     "data": {
      "image/png": "[encoded data removed]",
      "text/plain": [
       "<Figure size 432x288 with 1 Axes>"
      ]
     },
     "metadata": {
      "needs_background": "light"
     },
     "output_type": "display_data"
    }
   ],
   "source": [
    "fig = plt.figure()\n",
    "ax = fig.add_subplot(111)\n",
    "\n",
    "#original variable distribution \n",
    "x_train['Fare'].plot(kind='kde',ax=ax)\n",
    "\n",
    "#variable imputed with the median.\n",
    "x_train['fare_median'].plot(kind='kde',ax=ax,color='red')\n",
    "\n",
    "#variable imputed with mean.\n",
    "x_train['fare_mean'].plot(kind='kde',ax=ax,color='green')\n",
    "\n",
    "#legends\n",
    "lines,labels = ax.get_legend_handles_labels()\n",
    "ax.legend(lines,labels,loc='best')"
   ]
  },
  {
   "cell_type": "code",
   "execution_count": 20,
   "id": "7fda1c0e",
   "metadata": {},
   "outputs": [
    {
     "data": {
      "text/html": [
       "<div>\n",
       "<style scoped>\n",
       "    .dataframe tbody tr th:only-of-type {\n",
       "        vertical-align: middle;\n",
       "    }\n",
       "\n",
       "    .dataframe tbody tr th {\n",
       "        vertical-align: top;\n",
       "    }\n",
       "\n",
       "    .dataframe thead th {\n",
       "        text-align: right;\n",
       "    }\n",
       "</style>\n",
       "<table border=\"1\" class=\"dataframe\">\n",
       "  <thead>\n",
       "    <tr style=\"text-align: right;\">\n",
       "      <th></th>\n",
       "      <th>Age</th>\n",
       "      <th>Fare</th>\n",
       "      <th>Family</th>\n",
       "      <th>age_mean</th>\n",
       "      <th>age_median</th>\n",
       "      <th>fare_mean</th>\n",
       "      <th>fare_median</th>\n",
       "    </tr>\n",
       "  </thead>\n",
       "  <tbody>\n",
       "    <tr>\n",
       "      <th>Age</th>\n",
       "      <td>210.251707</td>\n",
       "      <td>75.481375</td>\n",
       "      <td>-6.993325</td>\n",
       "      <td>210.251707</td>\n",
       "      <td>210.251707</td>\n",
       "      <td>71.193767</td>\n",
       "      <td>71.193767</td>\n",
       "    </tr>\n",
       "    <tr>\n",
       "      <th>Fare</th>\n",
       "      <td>75.481375</td>\n",
       "      <td>2761.031435</td>\n",
       "      <td>18.599163</td>\n",
       "      <td>60.224654</td>\n",
       "      <td>60.224654</td>\n",
       "      <td>2761.031435</td>\n",
       "      <td>2761.031435</td>\n",
       "    </tr>\n",
       "    <tr>\n",
       "      <th>Family</th>\n",
       "      <td>-6.993325</td>\n",
       "      <td>18.599163</td>\n",
       "      <td>2.830892</td>\n",
       "      <td>-5.616299</td>\n",
       "      <td>-5.616299</td>\n",
       "      <td>17.657433</td>\n",
       "      <td>17.657433</td>\n",
       "    </tr>\n",
       "    <tr>\n",
       "      <th>age_mean</th>\n",
       "      <td>210.251707</td>\n",
       "      <td>60.224654</td>\n",
       "      <td>-5.616299</td>\n",
       "      <td>168.851934</td>\n",
       "      <td>168.851934</td>\n",
       "      <td>57.175304</td>\n",
       "      <td>57.175304</td>\n",
       "    </tr>\n",
       "    <tr>\n",
       "      <th>age_median</th>\n",
       "      <td>210.251707</td>\n",
       "      <td>60.224654</td>\n",
       "      <td>-5.616299</td>\n",
       "      <td>168.851934</td>\n",
       "      <td>168.851934</td>\n",
       "      <td>57.175304</td>\n",
       "      <td>57.175304</td>\n",
       "    </tr>\n",
       "    <tr>\n",
       "      <th>fare_mean</th>\n",
       "      <td>71.193767</td>\n",
       "      <td>2761.031435</td>\n",
       "      <td>17.657433</td>\n",
       "      <td>57.175304</td>\n",
       "      <td>57.175304</td>\n",
       "      <td>2621.232375</td>\n",
       "      <td>2621.232375</td>\n",
       "    </tr>\n",
       "    <tr>\n",
       "      <th>fare_median</th>\n",
       "      <td>71.193767</td>\n",
       "      <td>2761.031435</td>\n",
       "      <td>17.657433</td>\n",
       "      <td>57.175304</td>\n",
       "      <td>57.175304</td>\n",
       "      <td>2621.232375</td>\n",
       "      <td>2621.232375</td>\n",
       "    </tr>\n",
       "  </tbody>\n",
       "</table>\n",
       "</div>"
      ],
      "text/plain": [
       "                    Age         Fare     Family    age_mean  age_median  \\\n",
       "Age          210.251707    75.481375  -6.993325  210.251707  210.251707   \n",
       "Fare          75.481375  2761.031435  18.599163   60.224654   60.224654   \n",
       "Family        -6.993325    18.599163   2.830892   -5.616299   -5.616299   \n",
       "age_mean     210.251707    60.224654  -5.616299  168.851934  168.851934   \n",
       "age_median   210.251707    60.224654  -5.616299  168.851934  168.851934   \n",
       "fare_mean     71.193767  2761.031435  17.657433   57.175304   57.175304   \n",
       "fare_median   71.193767  2761.031435  17.657433   57.175304   57.175304   \n",
       "\n",
       "               fare_mean  fare_median  \n",
       "Age            71.193767    71.193767  \n",
       "Fare         2761.031435  2761.031435  \n",
       "Family         17.657433    17.657433  \n",
       "age_mean       57.175304    57.175304  \n",
       "age_median     57.175304    57.175304  \n",
       "fare_mean    2621.232375  2621.232375  \n",
       "fare_median  2621.232375  2621.232375  "
      ]
     },
     "execution_count": 20,
     "metadata": {},
     "output_type": "execute_result"
    }
   ],
   "source": [
    "x_train.cov()"
   ]
  },
  {
   "cell_type": "code",
   "execution_count": 22,
   "id": "1c40c390",
   "metadata": {},
   "outputs": [
    {
     "data": {
      "text/html": [
       "<div>\n",
       "<style scoped>\n",
       "    .dataframe tbody tr th:only-of-type {\n",
       "        vertical-align: middle;\n",
       "    }\n",
       "\n",
       "    .dataframe tbody tr th {\n",
       "        vertical-align: top;\n",
       "    }\n",
       "\n",
       "    .dataframe thead th {\n",
       "        text-align: right;\n",
       "    }\n",
       "</style>\n",
       "<table border=\"1\" class=\"dataframe\">\n",
       "  <thead>\n",
       "    <tr style=\"text-align: right;\">\n",
       "      <th></th>\n",
       "      <th>Age</th>\n",
       "      <th>Fare</th>\n",
       "      <th>Family</th>\n",
       "      <th>age_mean</th>\n",
       "      <th>age_median</th>\n",
       "      <th>fare_mean</th>\n",
       "      <th>fare_median</th>\n",
       "    </tr>\n",
       "  </thead>\n",
       "  <tbody>\n",
       "    <tr>\n",
       "      <th>Age</th>\n",
       "      <td>1.000000</td>\n",
       "      <td>0.091482</td>\n",
       "      <td>-0.319651</td>\n",
       "      <td>1.000000</td>\n",
       "      <td>1.000000</td>\n",
       "      <td>0.088944</td>\n",
       "      <td>0.088944</td>\n",
       "    </tr>\n",
       "    <tr>\n",
       "      <th>Fare</th>\n",
       "      <td>0.091482</td>\n",
       "      <td>1.000000</td>\n",
       "      <td>0.207193</td>\n",
       "      <td>0.088151</td>\n",
       "      <td>0.088151</td>\n",
       "      <td>1.000000</td>\n",
       "      <td>1.000000</td>\n",
       "    </tr>\n",
       "    <tr>\n",
       "      <th>Family</th>\n",
       "      <td>-0.319651</td>\n",
       "      <td>0.207193</td>\n",
       "      <td>1.000000</td>\n",
       "      <td>-0.256883</td>\n",
       "      <td>-0.256883</td>\n",
       "      <td>0.204981</td>\n",
       "      <td>0.204981</td>\n",
       "    </tr>\n",
       "    <tr>\n",
       "      <th>age_mean</th>\n",
       "      <td>1.000000</td>\n",
       "      <td>0.088151</td>\n",
       "      <td>-0.256883</td>\n",
       "      <td>1.000000</td>\n",
       "      <td>1.000000</td>\n",
       "      <td>0.085941</td>\n",
       "      <td>0.085941</td>\n",
       "    </tr>\n",
       "    <tr>\n",
       "      <th>age_median</th>\n",
       "      <td>1.000000</td>\n",
       "      <td>0.088151</td>\n",
       "      <td>-0.256883</td>\n",
       "      <td>1.000000</td>\n",
       "      <td>1.000000</td>\n",
       "      <td>0.085941</td>\n",
       "      <td>0.085941</td>\n",
       "    </tr>\n",
       "    <tr>\n",
       "      <th>fare_mean</th>\n",
       "      <td>0.088944</td>\n",
       "      <td>1.000000</td>\n",
       "      <td>0.204981</td>\n",
       "      <td>0.085941</td>\n",
       "      <td>0.085941</td>\n",
       "      <td>1.000000</td>\n",
       "      <td>1.000000</td>\n",
       "    </tr>\n",
       "    <tr>\n",
       "      <th>fare_median</th>\n",
       "      <td>0.088944</td>\n",
       "      <td>1.000000</td>\n",
       "      <td>0.204981</td>\n",
       "      <td>0.085941</td>\n",
       "      <td>0.085941</td>\n",
       "      <td>1.000000</td>\n",
       "      <td>1.000000</td>\n",
       "    </tr>\n",
       "  </tbody>\n",
       "</table>\n",
       "</div>"
      ],
      "text/plain": [
       "                  Age      Fare    Family  age_mean  age_median  fare_mean  \\\n",
       "Age          1.000000  0.091482 -0.319651  1.000000    1.000000   0.088944   \n",
       "Fare         0.091482  1.000000  0.207193  0.088151    0.088151   1.000000   \n",
       "Family      -0.319651  0.207193  1.000000 -0.256883   -0.256883   0.204981   \n",
       "age_mean     1.000000  0.088151 -0.256883  1.000000    1.000000   0.085941   \n",
       "age_median   1.000000  0.088151 -0.256883  1.000000    1.000000   0.085941   \n",
       "fare_mean    0.088944  1.000000  0.204981  0.085941    0.085941   1.000000   \n",
       "fare_median  0.088944  1.000000  0.204981  0.085941    0.085941   1.000000   \n",
       "\n",
       "             fare_median  \n",
       "Age             0.088944  \n",
       "Fare            1.000000  \n",
       "Family          0.204981  \n",
       "age_mean        0.085941  \n",
       "age_median      0.085941  \n",
       "fare_mean       1.000000  \n",
       "fare_median     1.000000  "
      ]
     },
     "execution_count": 22,
     "metadata": {},
     "output_type": "execute_result"
    }
   ],
   "source": [
    "x_train.corr()"
   ]
  },
  {
   "cell_type": "code",
   "execution_count": 25,
   "id": "84e775bb",
   "metadata": {},
   "outputs": [
    {
     "data": {
      "text/plain": [
       "<AxesSubplot:>"
      ]
     },
     "execution_count": 25,
     "metadata": {},
     "output_type": "execute_result"
    },
    {
     "data": {
      "image/png": "[encoded data removed]",
      "text/plain": [
       "<Figure size 432x288 with 1 Axes>"
      ]
     },
     "metadata": {
      "needs_background": "light"
     },
     "output_type": "display_data"
    }
   ],
   "source": [
    "x_train[['Age','age_mean','age_median']].boxplot()"
   ]
  },
  {
   "cell_type": "code",
   "execution_count": 26,
   "id": "7e49b97c",
   "metadata": {},
   "outputs": [
    {
     "data": {
      "text/plain": [
       "<AxesSubplot:>"
      ]
     },
     "execution_count": 26,
     "metadata": {},
     "output_type": "execute_result"
    },
    {
     "data": {
      "image/png": "[encoded data removed]",
      "text/plain": [
       "<Figure size 432x288 with 1 Axes>"
      ]
     },
     "metadata": {
      "needs_background": "light"
     },
     "output_type": "display_data"
    }
   ],
   "source": [
    "x_train[['Fare','fare_mean','fare_median']].boxplot()"
   ]
  },
  {
   "cell_type": "markdown",
   "id": "4474b4e7",
   "metadata": {},
   "source": [
    "# using sklearn "
   ]
  },
  {
   "cell_type": "code",
   "execution_count": 28,
   "id": "c2f29ab5",
   "metadata": {},
   "outputs": [],
   "source": [
    "x_train , x_test , y_train , y_test = train_test_split(x,y,test_size=0.2,random_state=2)"
   ]
  },
  {
   "cell_type": "code",
   "execution_count": 29,
   "id": "d8af09f2",
   "metadata": {},
   "outputs": [],
   "source": [
    "imputer1 = SimpleImputer(strategy='median')\n",
    "imputer2 = SimpleImputer(strategy='mean')"
   ]
  },
  {
   "cell_type": "code",
   "execution_count": 32,
   "id": "2a5cc2aa",
   "metadata": {},
   "outputs": [],
   "source": [
    "trf = ColumnTransformer([\n",
    "    ('imputer1',imputer1,['Age']),\n",
    "    ('imputer2',imputer2,['Fare'])\n",
    "],remainder='passthrough')"
   ]
  },
  {
   "cell_type": "code",
   "execution_count": 33,
   "id": "4f7d07cd",
   "metadata": {},
   "outputs": [
    {
     "data": {
      "text/plain": [
       "ColumnTransformer(remainder='passthrough',\n",
       "                  transformers=[('imputer1', SimpleImputer(strategy='median'),\n",
       "                                 ['Age']),\n",
       "                                ('imputer2', SimpleImputer(), ['Fare'])])"
      ]
     },
     "execution_count": 33,
     "metadata": {},
     "output_type": "execute_result"
    }
   ],
   "source": [
    "trf.fit(x_train)"
   ]
  },
  {
   "cell_type": "code",
   "execution_count": 34,
   "id": "cc7c2ab2",
   "metadata": {},
   "outputs": [
    {
     "data": {
      "text/plain": [
       "array([28.75])"
      ]
     },
     "execution_count": 34,
     "metadata": {},
     "output_type": "execute_result"
    }
   ],
   "source": [
    "trf.named_transformers_['imputer1'].statistics_"
   ]
  },
  {
   "cell_type": "code",
   "execution_count": 35,
   "id": "ce3d2262",
   "metadata": {},
   "outputs": [
    {
     "data": {
      "text/plain": [
       "array([32.61759689])"
      ]
     },
     "execution_count": 35,
     "metadata": {},
     "output_type": "execute_result"
    }
   ],
   "source": [
    "trf.named_transformers_['imputer2'].statistics_"
   ]
  },
  {
   "cell_type": "code",
   "execution_count": 36,
   "id": "8d1a0643",
   "metadata": {},
   "outputs": [],
   "source": [
    "x_train = trf.transform(x_train)\n",
    "x_test  = trf.transform(x_test)"
   ]
  },
  {
   "cell_type": "code",
   "execution_count": 37,
   "id": "d1306834",
   "metadata": {},
   "outputs": [
    {
     "data": {
      "text/plain": [
       "array([[ 40.    ,  27.7208,   0.    ],\n",
       "       [  4.    ,  16.7   ,   2.    ],\n",
       "       [ 47.    ,   9.    ,   0.    ],\n",
       "       ...,\n",
       "       [ 71.    ,  49.5042,   0.    ],\n",
       "       [ 28.75  , 221.7792,   0.    ],\n",
       "       [ 28.75  ,  25.925 ,   0.    ]])"
      ]
     },
     "execution_count": 37,
     "metadata": {},
     "output_type": "execute_result"
    }
   ],
   "source": [
    "x_train"
   ]
  },
  {
   "cell_type": "code",
   "execution_count": 38,
   "id": "af5729c1",
   "metadata": {},
   "outputs": [],
   "source": [
    "#THE END. "
   ]
  }
 ],
 "metadata": {
  "kernelspec": {
   "display_name": "Python 3 (ipykernel)",
   "language": "python",
   "name": "python3"
  },
  "language_info": {
   "codemirror_mode": {
    "name": "ipython",
    "version": 3
   },
   "file_extension": ".py",
   "mimetype": "text/x-python",
   "name": "python",
   "nbconvert_exporter": "python",
   "pygments_lexer": "ipython3",
   "version": "3.10.4"
  }
 },
 "nbformat": 4,
 "nbformat_minor": 5
}
