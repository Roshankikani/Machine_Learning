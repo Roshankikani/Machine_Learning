{
 "cells": [
  {
   "cell_type": "code",
   "execution_count": 1,
   "id": "b0a204d1",
   "metadata": {},
   "outputs": [],
   "source": [
    "import numpy as np \n",
    "import pandas as pd "
   ]
  },
  {
   "cell_type": "code",
   "execution_count": 2,
   "id": "d08c2c9c",
   "metadata": {},
   "outputs": [
    {
     "name": "stdout",
     "output_type": "stream",
     "text": [
      "(506, 13)\n"
     ]
    },
    {
     "data": {
      "text/plain": [
       "(506, 13)"
      ]
     },
     "execution_count": 2,
     "metadata": {},
     "output_type": "execute_result"
    }
   ],
   "source": [
    "import warnings\n",
    ">>> from sklearn.datasets import load_boston\n",
    ">>> with warnings.catch_warnings():\n",
    "...     # You should probably not use this dataset.\n",
    "...     warnings.filterwarnings(\"ignore\")\n",
    "...     X, y = load_boston(return_X_y=True)\n",
    ">>> print(X.shape)\n",
    "(506, 13)"
   ]
  },
  {
   "cell_type": "code",
   "execution_count": 3,
   "id": "d73aa24f",
   "metadata": {},
   "outputs": [],
   "source": [
    "from sklearn.linear_model import LinearRegression\n",
    "from sklearn.neighbors import KNeighborsRegressor\n",
    "from sklearn.model_selection import GridSearchCV\n",
    "from sklearn.tree import DecisionTreeRegressor\n",
    "from sklearn.metrics import r2_score"
   ]
  },
  {
   "cell_type": "code",
   "execution_count": 4,
   "id": "591d87e3",
   "metadata": {},
   "outputs": [],
   "source": [
    "from sklearn.model_selection import train_test_split\n",
    "\n",
    "x_train , x_test,  y_train , y_test = train_test_split(X,y,test_size=0.2,random_state=123)"
   ]
  },
  {
   "cell_type": "code",
   "execution_count": 5,
   "id": "ecb99122",
   "metadata": {},
   "outputs": [],
   "source": [
    "lr = LinearRegression()\n",
    "dt = DecisionTreeRegressor()\n",
    "knn = KNeighborsRegressor()"
   ]
  },
  {
   "cell_type": "code",
   "execution_count": 7,
   "id": "6ef7ef51",
   "metadata": {},
   "outputs": [
    {
     "data": {
      "text/plain": [
       "KNeighborsRegressor()"
      ]
     },
     "execution_count": 7,
     "metadata": {},
     "output_type": "execute_result"
    }
   ],
   "source": [
    "lr.fit(x_train,y_train)\n",
    "dt.fit(x_train,y_train)\n",
    "knn.fit(x_train,y_train)"
   ]
  },
  {
   "cell_type": "code",
   "execution_count": 8,
   "id": "bba62659",
   "metadata": {},
   "outputs": [],
   "source": [
    "y_pred1 = lr.predict(x_test)\n",
    "y_pred2 = dt.predict(x_test)\n",
    "y_pred3 = knn.predict(x_test)"
   ]
  },
  {
   "cell_type": "code",
   "execution_count": 10,
   "id": "f7c714f9",
   "metadata": {},
   "outputs": [
    {
     "name": "stdout",
     "output_type": "stream",
     "text": [
      "R2_score LR :  0.6592466510354096\n",
      "R2_score DT:  0.4500954944731702\n",
      "R2_score KNN:  0.5475962186976784\n"
     ]
    }
   ],
   "source": [
    "print(\"R2_score LR : \",r2_score(y_test,y_pred1))\n",
    "print(\"R2_score DT: \",r2_score(y_test,y_pred2))\n",
    "print(\"R2_score KNN: \",r2_score(y_test,y_pred3))"
   ]
  },
  {
   "cell_type": "code",
   "execution_count": 11,
   "id": "b90e708d",
   "metadata": {},
   "outputs": [],
   "source": [
    "from sklearn.ensemble import BaggingRegressor"
   ]
  },
  {
   "cell_type": "code",
   "execution_count": 12,
   "id": "79465dcd",
   "metadata": {},
   "outputs": [
    {
     "data": {
      "text/plain": [
       "BaggingRegressor(random_state=1)"
      ]
     },
     "execution_count": 12,
     "metadata": {},
     "output_type": "execute_result"
    }
   ],
   "source": [
    "bag_regressor = BaggingRegressor(random_state=1)\n",
    "bag_regressor.fit(x_train,y_train)"
   ]
  },
  {
   "cell_type": "code",
   "execution_count": 18,
   "id": "cbc11aaa",
   "metadata": {},
   "outputs": [],
   "source": [
    "Y_pred = bag_regressor.predict(x_test)"
   ]
  },
  {
   "cell_type": "code",
   "execution_count": 22,
   "id": "93680cdc",
   "metadata": {},
   "outputs": [
    {
     "data": {
      "text/plain": [
       "array([21.13, 25.74, 48.14, 21.33, 29.6 , 41.24, 23.68,  8.27, 19.86,\n",
       "       30.56, 21.93, 20.45, 13.79, 23.34, 17.85, 21.38, 20.63, 45.23,\n",
       "       19.11, 13.47, 15.46, 47.08, 34.84, 45.6 , 42.77, 21.9 , 15.92,\n",
       "       20.37, 19.48, 21.7 , 27.44, 32.32, 16.5 , 21.99, 23.53, 32.44,\n",
       "       24.92, 16.12, 13.63, 48.48, 30.14, 17.11, 40.17, 47.36, 19.15,\n",
       "       21.16, 20.9 , 22.25, 16.21, 30.5 , 32.2 , 27.97, 20.88,  9.93,\n",
       "       22.79, 15.76, 13.69,  9.16, 35.15, 10.19, 19.95, 17.58, 18.27,\n",
       "       20.5 , 20.22, 22.67, 23.52, 20.36, 22.45, 30.49, 20.01, 22.84,\n",
       "       17.21, 25.44, 17.3 , 18.83, 11.26, 18.44, 29.34, 12.87, 33.63,\n",
       "       11.39, 23.33, 21.28, 19.86, 22.12, 16.11, 20.66, 19.9 , 26.58,\n",
       "       13.02, 35.23, 18.37, 24.82, 34.21, 31.13, 14.14, 29.4 , 25.85,\n",
       "       34.63, 20.31, 14.69])"
      ]
     },
     "execution_count": 22,
     "metadata": {},
     "output_type": "execute_result"
    }
   ],
   "source": [
    "Y_pred"
   ]
  },
  {
   "cell_type": "code",
   "execution_count": 27,
   "id": "67914b2e",
   "metadata": {},
   "outputs": [
    {
     "name": "stdout",
     "output_type": "stream",
     "text": [
      "training coef of r2 score :  0.9799359879973576\n",
      "testing coef of r2 score :  0.8184644795411804\n"
     ]
    }
   ],
   "source": [
    "print(\"training coef of r2 score : \", bag_regressor.score(x_train,y_train))\n",
    "print(\"testing coef of r2 score : \", r2_score(y_test,Y_pred))"
   ]
  },
  {
   "cell_type": "code",
   "execution_count": 28,
   "id": "b9b2786e",
   "metadata": {},
   "outputs": [
    {
     "ename": "NameError",
     "evalue": "name 'boston' is not defined",
     "output_type": "error",
     "traceback": [
      "\u001b[1;31m---------------------------------------------------------------------------\u001b[0m",
      "\u001b[1;31mNameError\u001b[0m                                 Traceback (most recent call last)",
      "File \u001b[1;32m<timed exec>:1\u001b[0m, in \u001b[0;36m<module>\u001b[1;34m\u001b[0m\n",
      "\u001b[1;31mNameError\u001b[0m: name 'boston' is not defined"
     ]
    }
   ],
   "source": [
    "%%time\n",
    "\n",
    "n_samples = X.data.shape[0]\n",
    "n_features = boston.data.shape[1]\n",
    "\n",
    "params = {'base_estimator': [None, LinearRegression(), KNeighborsRegressor()],\n",
    "          'n_estimators': [20,50,100],\n",
    "          'max_samples': [0.5,1.0],\n",
    "          'max_features': [0.5,1.0],\n",
    "          'bootstrap': [True, False],\n",
    "          'bootstrap_features': [True, False]}\n",
    "\n",
    "bagging_regressor_grid = GridSearchCV(BaggingRegressor(random_state=1, n_jobs=-1), param_grid =params, cv=3, n_jobs=-1, verbose=1)\n",
    "bagging_regressor_grid.fit(X_train, Y_train)\n",
    "\n",
    "print('Train R^2 Score : %.3f'%bagging_regressor_grid.best_estimator_.score(X_train, Y_train))\n",
    "print('Test R^2 Score : %.3f'%bagging_regressor_grid.best_estimator_.score(X_test, Y_test))\n",
    "print('Best R^2 Score Through Grid Search : %.3f'%bagging_regressor_grid.best_score_)\n",
    "print('Best Parameters : ',bagging_regressor_grid.best_params_)"
   ]
  },
  {
   "cell_type": "code",
   "execution_count": null,
   "id": "6aea15c9",
   "metadata": {},
   "outputs": [],
   "source": []
  }
 ],
 "metadata": {
  "kernelspec": {
   "display_name": "Python 3 (ipykernel)",
   "language": "python",
   "name": "python3"
  },
  "language_info": {
   "codemirror_mode": {
    "name": "ipython",
    "version": 3
   },
   "file_extension": ".py",
   "mimetype": "text/x-python",
   "name": "python",
   "nbconvert_exporter": "python",
   "pygments_lexer": "ipython3",
   "version": "3.10.4"
  }
 },
 "nbformat": 4,
 "nbformat_minor": 5
}
